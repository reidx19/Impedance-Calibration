{
 "cells": [
  {
   "cell_type": "markdown",
   "metadata": {},
   "source": [
    "# Creating Clusters for Stochastic Optimization\n",
    "---"
   ]
  },
  {
   "cell_type": "markdown",
   "metadata": {},
   "source": [
    "Import packages"
   ]
  },
  {
   "cell_type": "code",
   "execution_count": 191,
   "metadata": {},
   "outputs": [],
   "source": [
    "from pathlib import Path\n",
    "import pickle\n",
    "import pandas as pd\n",
    "import geopandas as gpd\n",
    "import json\n",
    "import numpy as np"
   ]
  },
  {
   "cell_type": "markdown",
   "metadata": {},
   "source": [
    "Import cleaned traces"
   ]
  },
  {
   "cell_type": "code",
   "execution_count": 176,
   "metadata": {},
   "outputs": [],
   "source": [
    "export_fp = Path.home() / 'Downloads/cleaned_trips'\n",
    "#network_fp = Path.home() / \"Downloads/cleaned_trips/networks/final_network.gpkg\"\n",
    "\n",
    "#load all traces\n",
    "with (export_fp/'cleaned_traces.pkl').open('rb') as fh:\n",
    "    coords_dict, trips_df = pickle.load(fh)"
   ]
  },
  {
   "cell_type": "code",
   "execution_count": 177,
   "metadata": {},
   "outputs": [
    {
     "data": {
      "text/html": [
       "<div>\n",
       "<style scoped>\n",
       "    .dataframe tbody tr th:only-of-type {\n",
       "        vertical-align: middle;\n",
       "    }\n",
       "\n",
       "    .dataframe tbody tr th {\n",
       "        vertical-align: top;\n",
       "    }\n",
       "\n",
       "    .dataframe thead th {\n",
       "        text-align: right;\n",
       "    }\n",
       "</style>\n",
       "<table border=\"1\" class=\"dataframe\">\n",
       "  <thead>\n",
       "    <tr style=\"text-align: right;\">\n",
       "      <th></th>\n",
       "      <th>tripid</th>\n",
       "      <th>initial_start_time</th>\n",
       "      <th>initial_end_time</th>\n",
       "      <th>initial_duration</th>\n",
       "      <th>initial_total_points</th>\n",
       "      <th>initial_avg_accuracy</th>\n",
       "      <th>tot_points</th>\n",
       "      <th>duration</th>\n",
       "      <th>min_time_difference</th>\n",
       "      <th>max_time_difference</th>\n",
       "      <th>mean_time_difference</th>\n",
       "      <th>min_distance_ft</th>\n",
       "      <th>max_distance_ft</th>\n",
       "      <th>avg_distance_ft</th>\n",
       "      <th>total_distance_ft</th>\n",
       "      <th>max_speed_mph</th>\n",
       "      <th>min_speed_mph</th>\n",
       "      <th>avg_speed_mph</th>\n",
       "      <th>total_points</th>\n",
       "    </tr>\n",
       "  </thead>\n",
       "  <tbody>\n",
       "    <tr>\n",
       "      <th>12</th>\n",
       "      <td>80</td>\n",
       "      <td>2012-10-12 11:38:29</td>\n",
       "      <td>2012-10-12 11:48:00</td>\n",
       "      <td>0 days 00:09:31</td>\n",
       "      <td>569</td>\n",
       "      <td>53.368994</td>\n",
       "      <td>546.0</td>\n",
       "      <td>0 days 00:08:59</td>\n",
       "      <td>0 days 00:00:01</td>\n",
       "      <td>0 days 00:00:48</td>\n",
       "      <td>0 days 00:00:01.871527777</td>\n",
       "      <td>5.260514</td>\n",
       "      <td>330.793547</td>\n",
       "      <td>26.254532</td>\n",
       "      <td>7561.305097</td>\n",
       "      <td>31.185259</td>\n",
       "      <td>0.660025</td>\n",
       "      <td>14.300888</td>\n",
       "      <td>289.0</td>\n",
       "    </tr>\n",
       "  </tbody>\n",
       "</table>\n",
       "</div>"
      ],
      "text/plain": [
       "    tripid  initial_start_time    initial_end_time initial_duration  \\\n",
       "12      80 2012-10-12 11:38:29 2012-10-12 11:48:00  0 days 00:09:31   \n",
       "\n",
       "    initial_total_points  initial_avg_accuracy  tot_points        duration  \\\n",
       "12                   569             53.368994       546.0 0 days 00:08:59   \n",
       "\n",
       "   min_time_difference max_time_difference      mean_time_difference  \\\n",
       "12     0 days 00:00:01     0 days 00:00:48 0 days 00:00:01.871527777   \n",
       "\n",
       "    min_distance_ft  max_distance_ft  avg_distance_ft  total_distance_ft  \\\n",
       "12         5.260514       330.793547        26.254532        7561.305097   \n",
       "\n",
       "    max_speed_mph  min_speed_mph  avg_speed_mph  total_points  \n",
       "12      31.185259       0.660025      14.300888         289.0  "
      ]
     },
     "execution_count": 177,
     "metadata": {},
     "output_type": "execute_result"
    }
   ],
   "source": [
    "trips_df.loc[trips_df['tripid']==80]"
   ]
  },
  {
   "cell_type": "code",
   "execution_count": null,
   "metadata": {},
   "outputs": [],
   "source": []
  },
  {
   "cell_type": "markdown",
   "metadata": {},
   "source": [
    "Trip data"
   ]
  },
  {
   "cell_type": "code",
   "execution_count": 178,
   "metadata": {},
   "outputs": [],
   "source": [
    "trip = pd.read_csv(export_fp/\"trip.csv\", header = None)\n",
    "col_names = ['tripid','userid','trip_type','description','starttime','endtime','num_points']\n",
    "trip.columns = col_names\n",
    "trip.drop(columns=['starttime','endtime','num_points'],inplace=True)"
   ]
  },
  {
   "cell_type": "markdown",
   "metadata": {},
   "source": [
    "User data"
   ]
  },
  {
   "cell_type": "code",
   "execution_count": 179,
   "metadata": {},
   "outputs": [],
   "source": [
    "user = pd.read_csv(export_fp/\"user.csv\", header=None)\n",
    "user_col = ['userid','created_date','device','email','age',\n",
    "            'gender','income','ethnicity','homeZIP','schoolZip',\n",
    "            'workZip','cycling_freq','rider_history','rider_type','app_version']\n",
    "user.columns = user_col\n",
    "user.drop(columns=['device','app_version','app_version','email'],inplace=True)"
   ]
  },
  {
   "cell_type": "markdown",
   "metadata": {},
   "source": [
    "Add trip and user data to trips_df"
   ]
  },
  {
   "cell_type": "code",
   "execution_count": 180,
   "metadata": {},
   "outputs": [],
   "source": [
    "trips_df = pd.merge(trips_df,trip,on='tripid').merge(user,on='userid').copy()"
   ]
  },
  {
   "cell_type": "code",
   "execution_count": null,
   "metadata": {},
   "outputs": [],
   "source": []
  },
  {
   "cell_type": "code",
   "execution_count": 181,
   "metadata": {},
   "outputs": [],
   "source": [
    "fp = Path.home() / \"Documents/GitHub/Impedance-Calibration\"\n",
    "user_data_definitions = json.load(open(fp/'user_data_definition.json'))\n",
    "for col in trips_df.columns:\n",
    "    if col in user_data_definitions.keys():\n",
    "        trips_df[col] = trips_df[col].astype(str)\n",
    "        trips_df[col] = trips_df[col].map(user_data_definitions[col])"
   ]
  },
  {
   "cell_type": "code",
   "execution_count": 182,
   "metadata": {},
   "outputs": [
    {
     "data": {
      "text/plain": [
       "{'-1': 'no data',\n",
       " '0': 'no data',\n",
       " '1': 'Less than once a month',\n",
       " '2': 'Several times per month',\n",
       " '3': 'Several times per week',\n",
       " '4': 'Daily'}"
      ]
     },
     "execution_count": 182,
     "metadata": {},
     "output_type": "execute_result"
    }
   ],
   "source": [
    "user_data_definitions['cycling_freq']"
   ]
  },
  {
   "cell_type": "markdown",
   "metadata": {},
   "source": [
    "Find Euclidean distance between origin and destination"
   ]
  },
  {
   "cell_type": "code",
   "execution_count": 183,
   "metadata": {},
   "outputs": [],
   "source": [
    "for tripid, coords in coords_dict.items():\n",
    "    #get starting location\n",
    "    start_lon = coords.loc[coords['datetime'].idxmin(),'lon'].item()\n",
    "    start_lat = coords.loc[coords['datetime'].idxmin(),'lat'].item()\n",
    "\n",
    "    #get ending location\n",
    "    end_lon = coords.loc[coords['datetime'].idxmax(),'lon'].item()\n",
    "    end_lat = coords.loc[coords['datetime'].idxmax(),'lat'].item()\n",
    "\n",
    "    #assign to trips_df\n",
    "    trips_df.at[trips_df['tripid']==tripid,'start_lon'] = start_lon\n",
    "    trips_df.at[trips_df['tripid']==tripid,'start_lat'] = start_lat\n",
    "    trips_df.at[trips_df['tripid']==tripid,'end_lon'] = end_lon\n",
    "    trips_df.at[trips_df['tripid']==tripid,'end_lat'] = end_lat\n",
    "\n",
    "# find euclidean distance between start and end coord (for finding loop trips)\n",
    "start_geo = gpd.points_from_xy(trips_df['start_lon'],trips_df['start_lat'],crs='epsg:4326').to_crs('epsg:2240')\n",
    "end_geo = gpd.points_from_xy(trips_df['end_lon'],trips_df['end_lat'],crs='epsg:4326').to_crs('epsg:2240')\n",
    "trips_df['euclidean_distance'] = start_geo.distance(end_geo)"
   ]
  },
  {
   "cell_type": "markdown",
   "metadata": {},
   "source": [
    "Find origin and destination zip code"
   ]
  },
  {
   "cell_type": "code",
   "execution_count": null,
   "metadata": {},
   "outputs": [],
   "source": []
  },
  {
   "cell_type": "markdown",
   "metadata": {},
   "source": [
    "Remove loops and exercies trips"
   ]
  },
  {
   "cell_type": "code",
   "execution_count": 184,
   "metadata": {},
   "outputs": [
    {
     "name": "stdout",
     "output_type": "stream",
     "text": [
      "2136 trips were self loops\n",
      "2794 trips were for exercise\n"
     ]
    }
   ],
   "source": [
    "tolerance_ft = 1000\n",
    "self_loops = trips_df['euclidean_distance'] < tolerance_ft\n",
    "exercise = trips_df['trip_type'] == 'Exercise'\n",
    "trips_df = trips_df[~exercise & ~self_loops]\n",
    "print(self_loops.sum(),'trips were self loops')\n",
    "print(exercise.sum(),'trips were for exercise')"
   ]
  },
  {
   "cell_type": "markdown",
   "metadata": {},
   "source": [
    "What variables do we have for clustering?"
   ]
  },
  {
   "cell_type": "code",
   "execution_count": 185,
   "metadata": {},
   "outputs": [
    {
     "data": {
      "text/plain": [
       "Index(['tripid', 'initial_start_time', 'initial_end_time', 'initial_duration',\n",
       "       'initial_total_points', 'initial_avg_accuracy', 'tot_points',\n",
       "       'duration', 'min_time_difference', 'max_time_difference',\n",
       "       'mean_time_difference', 'min_distance_ft', 'max_distance_ft',\n",
       "       'avg_distance_ft', 'total_distance_ft', 'max_speed_mph',\n",
       "       'min_speed_mph', 'avg_speed_mph', 'total_points', 'userid', 'trip_type',\n",
       "       'description', 'created_date', 'age', 'gender', 'income', 'ethnicity',\n",
       "       'homeZIP', 'schoolZip', 'workZip', 'cycling_freq', 'rider_history',\n",
       "       'rider_type', 'start_lon', 'start_lat', 'end_lon', 'end_lat',\n",
       "       'euclidean_distance'],\n",
       "      dtype='object')"
      ]
     },
     "execution_count": 185,
     "metadata": {},
     "output_type": "execute_result"
    }
   ],
   "source": [
    "trips_df.columns"
   ]
  },
  {
   "cell_type": "code",
   "execution_count": 186,
   "metadata": {},
   "outputs": [
    {
     "data": {
      "text/html": [
       "<div>\n",
       "<style scoped>\n",
       "    .dataframe tbody tr th:only-of-type {\n",
       "        vertical-align: middle;\n",
       "    }\n",
       "\n",
       "    .dataframe tbody tr th {\n",
       "        vertical-align: top;\n",
       "    }\n",
       "\n",
       "    .dataframe thead th {\n",
       "        text-align: right;\n",
       "    }\n",
       "</style>\n",
       "<table border=\"1\" class=\"dataframe\">\n",
       "  <thead>\n",
       "    <tr style=\"text-align: right;\">\n",
       "      <th></th>\n",
       "      <th>tripid</th>\n",
       "      <th>initial_start_time</th>\n",
       "      <th>initial_end_time</th>\n",
       "      <th>initial_duration</th>\n",
       "      <th>initial_total_points</th>\n",
       "      <th>initial_avg_accuracy</th>\n",
       "      <th>tot_points</th>\n",
       "      <th>duration</th>\n",
       "      <th>min_time_difference</th>\n",
       "      <th>max_time_difference</th>\n",
       "      <th>...</th>\n",
       "      <th>schoolZip</th>\n",
       "      <th>workZip</th>\n",
       "      <th>cycling_freq</th>\n",
       "      <th>rider_history</th>\n",
       "      <th>rider_type</th>\n",
       "      <th>start_lon</th>\n",
       "      <th>start_lat</th>\n",
       "      <th>end_lon</th>\n",
       "      <th>end_lat</th>\n",
       "      <th>euclidean_distance</th>\n",
       "    </tr>\n",
       "  </thead>\n",
       "  <tbody>\n",
       "  </tbody>\n",
       "</table>\n",
       "<p>0 rows × 38 columns</p>\n",
       "</div>"
      ],
      "text/plain": [
       "Empty DataFrame\n",
       "Columns: [tripid, initial_start_time, initial_end_time, initial_duration, initial_total_points, initial_avg_accuracy, tot_points, duration, min_time_difference, max_time_difference, mean_time_difference, min_distance_ft, max_distance_ft, avg_distance_ft, total_distance_ft, max_speed_mph, min_speed_mph, avg_speed_mph, total_points, userid, trip_type, description, created_date, age, gender, income, ethnicity, homeZIP, schoolZip, workZip, cycling_freq, rider_history, rider_type, start_lon, start_lat, end_lon, end_lat, euclidean_distance]\n",
       "Index: []\n",
       "\n",
       "[0 rows x 38 columns]"
      ]
     },
     "execution_count": 186,
     "metadata": {},
     "output_type": "execute_result"
    }
   ],
   "source": [
    "trips_df[trips_df['rider_type'].isna()]"
   ]
  },
  {
   "cell_type": "code",
   "execution_count": 190,
   "metadata": {},
   "outputs": [],
   "source": [
    "relveant_columns = ['tripid','userid','duration','total_distance_ft','avg_speed_mph','trip_type',\n",
    "                    'age', 'gender', 'income', 'ethnicity','homeZIP', 'schoolZip', 'workZip',\n",
    "                    'cycling_freq', 'rider_history','rider_type'\n",
    "                    ]\n",
    "trips_df = trips_df[relveant_columns].copy()"
   ]
  },
  {
   "cell_type": "markdown",
   "metadata": {},
   "source": [
    "Replace no data with np.nan"
   ]
  },
  {
   "cell_type": "code",
   "execution_count": 192,
   "metadata": {},
   "outputs": [],
   "source": [
    "trips_df.replace('no data',np.NaN,inplace=True)"
   ]
  },
  {
   "cell_type": "code",
   "execution_count": 193,
   "metadata": {},
   "outputs": [
    {
     "data": {
      "text/plain": [
       "description          14925\n",
       "cycling_freq          7271\n",
       "income                6543\n",
       "age                   5948\n",
       "gender                5827\n",
       "ethnicity             4946\n",
       "rider_history         4359\n",
       "rider_type            4249\n",
       "created_date             0\n",
       "userid                   0\n",
       "trip_type                0\n",
       "avg_speed_mph            0\n",
       "homeZIP                  0\n",
       "schoolZip                0\n",
       "workZip                  0\n",
       "total_distance_ft        0\n",
       "duration                 0\n",
       "tripid                   0\n",
       "dtype: int64"
      ]
     },
     "execution_count": 193,
     "metadata": {},
     "output_type": "execute_result"
    }
   ],
   "source": [
    "trips_df.isna().sum().sort_values(ascending=False)"
   ]
  },
  {
   "cell_type": "markdown",
   "metadata": {},
   "source": [
    "-  Continuous\n",
    "    - Travel time (minutes)\n",
    "    - Total distance traveled (feet)\n",
    "    - Average speed (miles per hour)\n",
    "    - Shortest distance (feet)\n"
   ]
  },
  {
   "cell_type": "markdown",
   "metadata": {},
   "source": [
    "\n",
    "\n",
    "- Categorical\n",
    "    - Interval\n",
    "        - Age\n",
    "        - Income\n",
    "    - Ordinal\n",
    "        - Cycling frequency\n",
    "        - Rider history\n",
    "        - Rider type\n",
    "    - Nominal\n",
    "        - Gender (M/F)\n",
    "        - Ethnicity\n",
    "        - Trip type (could simplify to utlitarian/leisure)"
   ]
  },
  {
   "cell_type": "code",
   "execution_count": 194,
   "metadata": {},
   "outputs": [],
   "source": [
    "post = pd.read_csv(fp/'trips_df_postmatch.csv')\n",
    "post = post[['tripid','shortest_length','overlap_length','detour_rate']].copy()\n",
    "trips_df = trips_df.merge(post,on='tripid').copy()"
   ]
  },
  {
   "cell_type": "code",
   "execution_count": 198,
   "metadata": {},
   "outputs": [
    {
     "data": {
      "text/plain": [
       "userid\n",
       "10       59.866667\n",
       "14        5.760000\n",
       "16      455.500000\n",
       "17       38.000000\n",
       "18      -62.200000\n",
       "           ...    \n",
       "1723     -5.882353\n",
       "1725    -30.000000\n",
       "1727    356.000000\n",
       "1733    -11.000000\n",
       "1738     -4.000000\n",
       "Name: detour_rate, Length: 830, dtype: float64"
      ]
     },
     "execution_count": 198,
     "metadata": {},
     "output_type": "execute_result"
    }
   ],
   "source": [
    "trips_df.groupby('userid')"
   ]
  },
  {
   "cell_type": "code",
   "execution_count": null,
   "metadata": {},
   "outputs": [],
   "source": []
  }
 ],
 "metadata": {
  "kernelspec": {
   "display_name": "Python 3",
   "language": "python",
   "name": "python3"
  },
  "language_info": {
   "codemirror_mode": {
    "name": "ipython",
    "version": 3
   },
   "file_extension": ".py",
   "mimetype": "text/x-python",
   "name": "python",
   "nbconvert_exporter": "python",
   "pygments_lexer": "ipython3",
   "version": "3.9.13"
  }
 },
 "nbformat": 4,
 "nbformat_minor": 2
}
