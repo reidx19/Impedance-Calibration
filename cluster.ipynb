{
 "cells": [
  {
   "cell_type": "markdown",
   "metadata": {},
   "source": [
    "# Creating Clusters for Stochastic Optimization\n",
    "---"
   ]
  },
  {
   "cell_type": "markdown",
   "metadata": {},
   "source": [
    "Import packages"
   ]
  },
  {
   "cell_type": "code",
   "execution_count": null,
   "metadata": {},
   "outputs": [],
   "source": [
    "from pathlib import Path\n",
    "import pickle\n",
    "import pandas as pd\n",
    "import geopandas as gpd"
   ]
  },
  {
   "cell_type": "markdown",
   "metadata": {},
   "source": [
    "Import cleaned traces"
   ]
  },
  {
   "cell_type": "code",
   "execution_count": null,
   "metadata": {},
   "outputs": [],
   "source": [
    "export_fp = Path.home() / 'Downloads/cleaned_trips'\n",
    "#network_fp = Path.home() / \"Downloads/cleaned_trips/networks/final_network.gpkg\"\n",
    "\n",
    "#load all traces\n",
    "with (export_fp/'cleaned_traces.pkl').open('rb') as fh:\n",
    "    coords_dict, trips_df = pickle.load(fh)"
   ]
  },
  {
   "cell_type": "markdown",
   "metadata": {},
   "source": [
    "Trip data"
   ]
  },
  {
   "cell_type": "code",
   "execution_count": null,
   "metadata": {},
   "outputs": [],
   "source": [
    "trip = pd.read_csv(export_fp/\"trip.csv\", header = None)\n",
    "col_names = ['tripid','userid','trip_type','description','starttime','endtime','num_points']\n",
    "trip.columns = col_names\n",
    "trip.drop(columns=['starttime','endtime','num_points'],inplace=True)"
   ]
  },
  {
   "cell_type": "markdown",
   "metadata": {},
   "source": [
    "User data"
   ]
  },
  {
   "cell_type": "code",
   "execution_count": null,
   "metadata": {},
   "outputs": [],
   "source": [
    "user = pd.read_csv(export_fp/\"user.csv\", header=None)\n",
    "user_col = ['userid','created_date','device','email','age',\n",
    "            'gender','income','ethnicity','homeZIP','schoolZip',\n",
    "            'workZip','cyclingfreq','rider_history','rider_type','app_version']\n",
    "user.columns = user_col\n",
    "user.drop(columns=['device','app_version','app_version','email'],inplace=True)"
   ]
  },
  {
   "cell_type": "markdown",
   "metadata": {},
   "source": [
    "Add trip and user data to trips_df"
   ]
  },
  {
   "cell_type": "code",
   "execution_count": null,
   "metadata": {},
   "outputs": [],
   "source": [
    "# merge trip and users\n",
    "trips_df = pd.merge(trips_df,trip,on='tripid').merge(user,on='userid')"
   ]
  },
  {
   "cell_type": "code",
   "execution_count": null,
   "metadata": {},
   "outputs": [],
   "source": [
    "for tripid, coords in coords_dict.items():\n",
    "    #get starting location\n",
    "    start_lon = coords['datetime'].idxmin().map(coords['lon']).item()\n",
    "    start_lat = coords['datetime'].idxmin().map(coords['lat']).item()\n",
    "\n",
    "    #get ending location\n",
    "    end_lon = coords['datetime'].idxmax().map(coords['lon']).item()\n",
    "    end_lat = coords['datetime'].idxmax().map(coords['lat']).item()\n",
    "\n",
    "    #assign to trips_df\n",
    "    trips_df.at[trips_df['tripid']==tripid,'start_lon'] = start_lon\n",
    "    trips_df.at[trips_df['tripid']==tripid,'start_lat'] = start_lat\n",
    "    trips_df.at[trips_df['tripid']==tripid,'end_lon'] = end_lon\n",
    "    trips_df.at[trips_df['tripid']==tripid,'end_lat'] = end_lat\n",
    "\n",
    "# find euclidean distance between start and end coord (for finding loop trips)\n",
    "start_geo = gpd.points_from_xy(trips_df['start_lon'],trips_df['start_lat'],crs='epsg:4326').to_crs('epsg:2240')\n",
    "end_geo = gpd.points_from_xy(trips_df['end_lon'],trips_df['end_lat'],crs='epsg:4326').to_crs('epsg:2240')\n",
    "trips_df['euclidean_distance'] = start_geo.distance(end_geo)"
   ]
  },
  {
   "cell_type": "code",
   "execution_count": null,
   "metadata": {},
   "outputs": [],
   "source": [
    "#%% remove loops and exercies trips\n",
    "tolerance_ft = 1000\n",
    "trips_df = trips_df[trips_df['euclidean_distance']>tolerance_ft]\n",
    "trips_df = trips_df[trips_df['trip_type']!='Exercise']"
   ]
  },
  {
   "cell_type": "code",
   "execution_count": null,
   "metadata": {},
   "outputs": [],
   "source": []
  }
 ],
 "metadata": {
  "language_info": {
   "name": "python"
  }
 },
 "nbformat": 4,
 "nbformat_minor": 2
}
