{
 "cells": [
  {
   "cell_type": "markdown",
   "metadata": {},
   "source": [
    "# Retrieve Route Attributes\n",
    "We have a list of linkids, and we need to get the compile route attributes (how many turns, how much feet up, miles of bike facility, etc)"
   ]
  },
  {
   "cell_type": "code",
   "execution_count": 58,
   "metadata": {},
   "outputs": [],
   "source": [
    "from pathlib import Path\n",
    "import time\n",
    "import geopandas as gpd\n",
    "import numpy as np\n",
    "import pickle\n",
    "\n",
    "import modeling_turns\n",
    "import stochastic_optimization"
   ]
  },
  {
   "cell_type": "code",
   "execution_count": 59,
   "metadata": {},
   "outputs": [],
   "source": [
    "fp = Path.home() / 'Documents/BikewaySimData/Projects/gdot'\n",
    "\n",
    "with (fp / 'impedance_calibration.pkl').open('rb') as fh:\n",
    "    (df_edges,pseudo_df,pseudo_G) = pickle.load(fh)"
   ]
  },
  {
   "cell_type": "code",
   "execution_count": 61,
   "metadata": {},
   "outputs": [
    {
     "name": "stdout",
     "output_type": "stream",
     "text": [
      "(783782570, 67358015) (67400350, 67400314)\n"
     ]
    }
   ],
   "source": [
    "source = list(pseudo_G.nodes())[0]\n",
    "target = list(pseudo_G.nodes())[420]\n",
    "print(source,target)"
   ]
  },
  {
   "cell_type": "code",
   "execution_count": 62,
   "metadata": {},
   "outputs": [],
   "source": [
    "import networkx as nx\n",
    "length, path = nx.single_source_dijkstra(pseudo_G,source,target)"
   ]
  },
  {
   "cell_type": "code",
   "execution_count": 63,
   "metadata": {},
   "outputs": [
    {
     "data": {
      "text/plain": [
       "[((783782570, 67358015), (67358015, 67377092)),\n",
       " ((67358015, 67377092), (67377092, 67433170)),\n",
       " ((67377092, 67433170), (67433170, 67379305)),\n",
       " ((67433170, 67379305), (67379305, 67379311)),\n",
       " ((67379305, 67379311), (67379311, 67379314)),\n",
       " ((67379311, 67379314), (67379314, 67408977)),\n",
       " ((67379314, 67408977), (67408977, 67410764)),\n",
       " ((67408977, 67410764), (67410764, 67376597)),\n",
       " ((67410764, 67376597), (67376597, 67376593)),\n",
       " ((67376597, 67376593), (67376593, 67375988)),\n",
       " ((67376593, 67375988), (67375988, 67375954)),\n",
       " ((67375988, 67375954), (67375954, 9666113491)),\n",
       " ((67375954, 9666113491), (9666113491, 67385397)),\n",
       " ((9666113491, 67385397), (67385397, 67385395)),\n",
       " ((67385397, 67385395), (67385395, 67466764)),\n",
       " ((67385395, 67466764), (67466764, 67456096)),\n",
       " ((67466764, 67456096), (67456096, 67384506)),\n",
       " ((67456096, 67384506), (67384506, 67384500)),\n",
       " ((67384506, 67384500), (67384500, 67384482)),\n",
       " ((67384500, 67384482), (67384482, 67473878)),\n",
       " ((67384482, 67473878), (67473878, 67440465)),\n",
       " ((67473878, 67440465), (67440465, 67455439)),\n",
       " ((67440465, 67455439), (67455439, 67441191)),\n",
       " ((67455439, 67441191), (67441191, 67371161)),\n",
       " ((67441191, 67371161), (67371161, 5415065010)),\n",
       " ((67371161, 5415065010), (5415065010, 5278817397)),\n",
       " ((5415065010, 5278817397), (5278817397, 67375776)),\n",
       " ((5278817397, 67375776), (67375776, 67475263)),\n",
       " ((67375776, 67475263), (67475263, 67416985)),\n",
       " ((67475263, 67416985), (67416985, 67377060)),\n",
       " ((67416985, 67377060), (67377060, 67448114)),\n",
       " ((67377060, 67448114), (67448114, 5425641239)),\n",
       " ((67448114, 5425641239), (5425641239, 67407188)),\n",
       " ((5425641239, 67407188), (67407188, 67479372)),\n",
       " ((67407188, 67479372), (67479372, 67479285)),\n",
       " ((67479372, 67479285), (67479285, 67413259)),\n",
       " ((67479285, 67413259), (67413259, 5444597516)),\n",
       " ((67413259, 5444597516), (5444597516, 7297946661)),\n",
       " ((5444597516, 7297946661), (7297946661, 5506569014)),\n",
       " ((7297946661, 5506569014), (5506569014, 67376113)),\n",
       " ((5506569014, 67376113), (67376113, 6988472159)),\n",
       " ((67376113, 6988472159), (6988472159, 67394086)),\n",
       " ((6988472159, 67394086), (67394086, 3548408077)),\n",
       " ((67394086, 3548408077), (3548408077, 506912434)),\n",
       " ((3548408077, 506912434), (506912434, 315347955)),\n",
       " ((506912434, 315347955), (315347955, 67374613)),\n",
       " ((315347955, 67374613), (67374613, 67374616)),\n",
       " ((67374613, 67374616), (67374616, 67449477)),\n",
       " ((67374616, 67449477), (67449477, 67449478)),\n",
       " ((67449477, 67449478), (67449478, 67397975)),\n",
       " ((67449478, 67397975), (67397975, 67400350)),\n",
       " ((67397975, 67400350), (67400350, 67400314))]"
      ]
     },
     "execution_count": 63,
     "metadata": {},
     "output_type": "execute_result"
    }
   ],
   "source": [
    "edge_list = [(path[i],path[i+1]) for i in range(len(path)-1)]\n",
    "edge_list"
   ]
  },
  {
   "cell_type": "code",
   "execution_count": 18,
   "metadata": {},
   "outputs": [],
   "source": [
    "# linkids = [32641.0, 33174.0, 33175.0, 35233.0, 35234.0, 35235.0, 32803.0, 36922.0, 36923.0, 32827.0, 36925.0, 32826.0, 33089.0, 33090.0, 32834.0, 32721.0, 32598.0, 33239.0, 33240.0, 33241.0, 32728.0, 32727.0, 32599.0, 35293.0, 35295.0, 32479.0, 32480.0, 32482.0, 32739.0, 32736.0, 32613.0, 32614.0, 32612.0, 32611.0, 32610.0, 32747.0, 32748.0, 32749.0, 33266.0, 33273.0, 33274.0, 33275.0, 33276.0, 33277.0]\n",
    "# linkids = [int(x) for x in linkids]"
   ]
  },
  {
   "cell_type": "code",
   "execution_count": 20,
   "metadata": {},
   "outputs": [],
   "source": [
    "# fp = Path.home() / 'Documents/BikewaySimData/Projects/gdot'\n",
    "\n",
    "# #import network links\n",
    "# nodes = gpd.read_file(fp/\"networks/final_network.gpkg\",layer='nodes')\n",
    "# links = gpd.read_file(fp/\"networks/final_network.gpkg\",layer='links')#gpd.read_file(fp/\"networks/final_network_w_elevation.gpkg\")\n",
    "\n",
    "# #TODO fix this\n",
    "# links['oneway'] = links['oneway'] == \"1\"\n",
    "\n",
    "# links_dict = links.set_index('linkid',drop=False,inplace=True)#.to_dict('index')\n",
    "\n",
    "# # #%% prepare link dataframe\n",
    "# # links['bike'] = links['bl'] + links['pbl'] + links['mu']\n",
    "# # links['bike'] = links['bike'] >= 1\n",
    "\n",
    "# links['length_ft'] = links.length"
   ]
  },
  {
   "cell_type": "markdown",
   "metadata": {},
   "source": [
    "### Link Attributes"
   ]
  },
  {
   "cell_type": "code",
   "execution_count": 64,
   "metadata": {},
   "outputs": [
    {
     "data": {
      "text/plain": [
       "[(783782570, 67358015),\n",
       " (67358015, 67377092),\n",
       " (67377092, 67433170),\n",
       " (67433170, 67379305),\n",
       " (67379305, 67379311),\n",
       " (67379311, 67379314),\n",
       " (67379314, 67408977),\n",
       " (67408977, 67410764),\n",
       " (67410764, 67376597),\n",
       " (67376597, 67376593),\n",
       " (67376593, 67375988),\n",
       " (67375988, 67375954),\n",
       " (67375954, 9666113491),\n",
       " (9666113491, 67385397),\n",
       " (67385397, 67385395),\n",
       " (67385395, 67466764),\n",
       " (67466764, 67456096),\n",
       " (67456096, 67384506),\n",
       " (67384506, 67384500),\n",
       " (67384500, 67384482),\n",
       " (67384482, 67473878),\n",
       " (67473878, 67440465),\n",
       " (67440465, 67455439),\n",
       " (67455439, 67441191),\n",
       " (67441191, 67371161),\n",
       " (67371161, 5415065010),\n",
       " (5415065010, 5278817397),\n",
       " (5278817397, 67375776),\n",
       " (67375776, 67475263),\n",
       " (67475263, 67416985),\n",
       " (67416985, 67377060),\n",
       " (67377060, 67448114),\n",
       " (67448114, 5425641239),\n",
       " (5425641239, 67407188),\n",
       " (67407188, 67479372),\n",
       " (67479372, 67479285),\n",
       " (67479285, 67413259),\n",
       " (67413259, 5444597516),\n",
       " (5444597516, 7297946661),\n",
       " (7297946661, 5506569014),\n",
       " (5506569014, 67376113),\n",
       " (67376113, 6988472159),\n",
       " (6988472159, 67394086),\n",
       " (67394086, 3548408077),\n",
       " (3548408077, 506912434),\n",
       " (506912434, 315347955),\n",
       " (315347955, 67374613),\n",
       " (67374613, 67374616),\n",
       " (67374616, 67449477),\n",
       " (67449477, 67449478),\n",
       " (67449478, 67397975),\n",
       " (67397975, 67400350),\n",
       " (67400350, 67400314)]"
      ]
     },
     "execution_count": 64,
     "metadata": {},
     "output_type": "execute_result"
    }
   ],
   "source": [
    "path"
   ]
  },
  {
   "cell_type": "code",
   "execution_count": 66,
   "metadata": {},
   "outputs": [
    {
     "data": {
      "text/plain": [
       "Index(['source', 'target', 'reverse_link', 'azimuth', 'linkid', 'osmid',\n",
       "       'link_type', 'name', 'highway', 'bridge', 'tunnel', 'bl', 'pbl', 'mu',\n",
       "       'speedlimit_range_mph', 'lanes_per_direction', 'up_grade', 'length_ft',\n",
       "       'vehicle_separation'],\n",
       "      dtype='object')"
      ]
     },
     "execution_count": 66,
     "metadata": {},
     "output_type": "execute_result"
    }
   ],
   "source": [
    "df_edges.columns"
   ]
  },
  {
   "cell_type": "code",
   "execution_count": 21,
   "metadata": {},
   "outputs": [],
   "source": [
    "chosen_links = links.loc[path]\n",
    "\n",
    "summary_attributes = {}\n",
    "\n",
    "#specify columns to summarize\n",
    "bool_cols = ['bl','mu','pbl']\n",
    "cols = ['link_type','highway','functional_class','speedlimit_range_mph','lanes_per_direction']\n"
   ]
  },
  {
   "cell_type": "code",
   "execution_count": 22,
   "metadata": {},
   "outputs": [
    {
     "data": {
      "text/plain": [
       "{'bl': 0.44,\n",
       " 'mu': 0.13,\n",
       " 'pbl': 0.0,\n",
       " 'link_type.bike': 0.13,\n",
       " 'link_type.road': 0.87,\n",
       " 'highway.footway': 0.07,\n",
       " 'highway.tertiary': 0.22,\n",
       " 'highway.residential': 0.63,\n",
       " 'highway.cycleway': 0.06,\n",
       " 'highway.secondary': 0.02,\n",
       " 'functional_class.local': 0.85,\n",
       " 'functional_class.collectors/minor arterials': 0.02,\n",
       " 'speedlimit_range_mph.21-30 MPH': 0.87,\n",
       " 'lanes_per_direction.1': 0.85,\n",
       " 'lanes_per_direction.2-3': 0.02}"
      ]
     },
     "execution_count": 22,
     "metadata": {},
     "output_type": "execute_result"
    }
   ],
   "source": [
    "for bool_col in bool_cols:\n",
    "    total_length = chosen_links[chosen_links[bool_col] == 1].length.sum()\n",
    "    summary_attributes[bool_col] = np.round(total_length/chosen_links.length.sum(),2)\n",
    "\n",
    "for col in cols:\n",
    "    for unique_val in chosen_links[col].unique():\n",
    "        if (unique_val != None) | (unique_val == np.nan):\n",
    "            total_length = chosen_links[chosen_links[col] == unique_val].length.sum()\n",
    "        else:\n",
    "            continue\n",
    "        if isinstance(unique_val,str) == False:\n",
    "            unique_val = str(unique_val)\n",
    "        summary_attributes[col+'.'+unique_val] = np.round(total_length/chosen_links.length.sum(),2)\n",
    "\n",
    "summary_attributes\n"
   ]
  },
  {
   "cell_type": "markdown",
   "metadata": {},
   "source": [
    "# Turn Attributes"
   ]
  },
  {
   "cell_type": "code",
   "execution_count": 23,
   "metadata": {},
   "outputs": [],
   "source": [
    "#TODO recalculate bearing\n",
    "#create pseudo graph for modeling turns\n",
    "df_edges, pseudo_links, pseudo_G = modeling_turns.create_pseudo_dual_graph(links,'A','B','linkid','oneway')\n"
   ]
  },
  {
   "cell_type": "code",
   "execution_count": 40,
   "metadata": {},
   "outputs": [],
   "source": [
    "source = list(pseudo_G.nodes())[0]\n",
    "target = list(pseudo_G.nodes())[420]"
   ]
  },
  {
   "cell_type": "code",
   "execution_count": 45,
   "metadata": {},
   "outputs": [],
   "source": [
    "source = (68209677, 68209675)\n",
    "target = (69200243, 69465418)\n",
    "\n",
    "import networkx as nx\n",
    "length, path = nx.single_source_dijkstra(pseudo_G,source,target)"
   ]
  },
  {
   "cell_type": "code",
   "execution_count": 24,
   "metadata": {},
   "outputs": [
    {
     "data": {
      "text/plain": [
       "[(32641, 33174),\n",
       " (33174, 33175),\n",
       " (33175, 35233),\n",
       " (35233, 35234),\n",
       " (35234, 35235),\n",
       " (35235, 32803),\n",
       " (32803, 36922),\n",
       " (36922, 36923),\n",
       " (36923, 32827),\n",
       " (32827, 36925),\n",
       " (36925, 32826),\n",
       " (32826, 33089),\n",
       " (33089, 33090),\n",
       " (33090, 32834),\n",
       " (32834, 32721),\n",
       " (32721, 32598),\n",
       " (32598, 33239),\n",
       " (33239, 33240),\n",
       " (33240, 33241),\n",
       " (33241, 32728),\n",
       " (32728, 32727),\n",
       " (32727, 32599),\n",
       " (32599, 35293),\n",
       " (35293, 35295),\n",
       " (35295, 32479),\n",
       " (32479, 32480),\n",
       " (32480, 32482),\n",
       " (32482, 32739),\n",
       " (32739, 32736),\n",
       " (32736, 32613),\n",
       " (32613, 32614),\n",
       " (32614, 32612),\n",
       " (32612, 32611),\n",
       " (32611, 32610),\n",
       " (32610, 32747),\n",
       " (32747, 32748),\n",
       " (32748, 32749),\n",
       " (32749, 33266),\n",
       " (33266, 33273),\n",
       " (33273, 33274),\n",
       " (33274, 33275),\n",
       " (33275, 33276),\n",
       " (33276, 33277)]"
      ]
     },
     "execution_count": 24,
     "metadata": {},
     "output_type": "execute_result"
    }
   ],
   "source": [
    "edge_list = [(linkids[i],linkids[i+1]) for i in range(len(linkids)-1)]\n",
    "edge_list"
   ]
  },
  {
   "cell_type": "code",
   "execution_count": 50,
   "metadata": {},
   "outputs": [
    {
     "data": {
      "text/plain": [
       "[(68209677, 68209675, 68209675, 3489068402),\n",
       " (68209675, 3489068402, 3489068402, 68326014),\n",
       " (3489068402, 68326014, 68326014, 6705199299),\n",
       " (68326014, 6705199299, 6705199299, 1821421030),\n",
       " (6705199299, 1821421030, 1821421030, 7070716830),\n",
       " (1821421030, 7070716830, 7070716830, 7070716829),\n",
       " (7070716830, 7070716829, 7070716829, 68266456),\n",
       " (7070716829, 68266456, 68266456, 68326000),\n",
       " (68266456, 68326000, 68326000, 68171958),\n",
       " (68326000, 68171958, 68171958, 655203025),\n",
       " (68171958, 655203025, 655203025, 68143915),\n",
       " (655203025, 68143915, 68143915, 68325990),\n",
       " (68143915, 68325990, 68325990, 68325987),\n",
       " (68325990, 68325987, 68325987, 68325985),\n",
       " (68325987, 68325985, 68325985, 68307446),\n",
       " (68325985, 68307446, 68307446, 68165369),\n",
       " (68307446, 68165369, 68165369, 68389876),\n",
       " (68165369, 68389876, 68389876, 384328862),\n",
       " (68389876, 384328862, 384328862, 68168122),\n",
       " (384328862, 68168122, 68168122, 68172175),\n",
       " (68168122, 68172175, 68172175, 68172159),\n",
       " (68172175, 68172159, 68172159, 68332877),\n",
       " (68172159, 68332877, 68332877, 68332493),\n",
       " (68332877, 68332493, 68332493, 68313606),\n",
       " (68332493, 68313606, 68313606, 68332339),\n",
       " (68313606, 68332339, 68332339, 68162944),\n",
       " (68332339, 68162944, 68162944, 1685882361),\n",
       " (68162944, 1685882361, 1685882361, 68313596),\n",
       " (1685882361, 68313596, 68313596, 1678794996),\n",
       " (68313596, 1678794996, 1678794996, 1678794995),\n",
       " (1678794996, 1678794995, 1678794995, 68178863),\n",
       " (1678794995, 68178863, 68178863, 68313582),\n",
       " (68178863, 68313582, 68313582, 660530634),\n",
       " (68313582, 660530634, 660530634, 68280753),\n",
       " (660530634, 68280753, 68280753, 660530628),\n",
       " (68280753, 660530628, 660530628, 660530630),\n",
       " (660530628, 660530630, 660530630, 68313549),\n",
       " (660530630, 68313549, 68313549, 660530647),\n",
       " (68313549, 660530647, 660530647, 68313526),\n",
       " (660530647, 68313526, 68313526, 69215607),\n",
       " (68313526, 69215607, 69215607, 68191975),\n",
       " (69215607, 68191975, 68191975, 8644227775),\n",
       " (68191975, 8644227775, 8644227775, 69528754),\n",
       " (8644227775, 69528754, 69528754, 69283737),\n",
       " (69528754, 69283737, 69283737, 69294920),\n",
       " (69283737, 69294920, 69294920, 69294918),\n",
       " (69294920, 69294918, 69294918, 69460611),\n",
       " (69294918, 69460611, 69460611, 69221995),\n",
       " (69460611, 69221995, 69221995, 69460592),\n",
       " (69221995, 69460592, 69460592, 69436162),\n",
       " (69460592, 69436162, 69436162, 69663520),\n",
       " (69436162, 69663520, 69663520, 6694712734),\n",
       " (69663520, 6694712734, 6694712734, 4307528431),\n",
       " (6694712734, 4307528431, 4307528431, 69563435),\n",
       " (4307528431, 69563435, 69563435, 11050757793),\n",
       " (69563435, 11050757793, 11050757793, 10291215177),\n",
       " (11050757793, 10291215177, 10291215177, 11029670405),\n",
       " (10291215177, 11029670405, 11029670405, 69465504),\n",
       " (11029670405, 69465504, 69465504, 69423967),\n",
       " (69465504, 69423967, 69423967, 1928281264),\n",
       " (69423967, 1928281264, 1928281264, 69465489),\n",
       " (1928281264, 69465489, 69465489, 69200243),\n",
       " (69465489, 69200243, 69200243, 69465418)]"
      ]
     },
     "execution_count": 50,
     "metadata": {},
     "output_type": "execute_result"
    }
   ],
   "source": [
    "edge_list = [(*path[i],*path[i+1]) for i in range(len(path)-1)]\n",
    "edge_list"
   ]
  },
  {
   "cell_type": "code",
   "execution_count": 48,
   "metadata": {},
   "outputs": [
    {
     "data": {
      "text/plain": [
       "Index(['source_A', 'source_B', 'target_A', 'target_B', 'source_azimuth',\n",
       "       'source_reverse_link', 'source_linkid', 'target_azimuth',\n",
       "       'target_reverse_link', 'target_linkid', 'azimuth_change', 'turn_type',\n",
       "       'source', 'target'],\n",
       "      dtype='object')"
      ]
     },
     "execution_count": 48,
     "metadata": {},
     "output_type": "execute_result"
    }
   ],
   "source": [
    "pseudo_links.columns"
   ]
  },
  {
   "cell_type": "code",
   "execution_count": 53,
   "metadata": {},
   "outputs": [
    {
     "data": {
      "text/plain": [
       "backwards    27\n",
       "straight     23\n",
       "left         13\n",
       "right         9\n",
       "Name: turn_type, dtype: int64"
      ]
     },
     "execution_count": 53,
     "metadata": {},
     "output_type": "execute_result"
    }
   ],
   "source": [
    "pseudo_links.set_index(['source_A','source_B','target_A','target_B']).loc[edge_list,'turn_type'].value_counts()"
   ]
  },
  {
   "cell_type": "code",
   "execution_count": null,
   "metadata": {},
   "outputs": [],
   "source": []
  },
  {
   "cell_type": "code",
   "execution_count": null,
   "metadata": {},
   "outputs": [],
   "source": []
  },
  {
   "cell_type": "code",
   "execution_count": null,
   "metadata": {},
   "outputs": [],
   "source": []
  },
  {
   "cell_type": "code",
   "execution_count": null,
   "metadata": {},
   "outputs": [],
   "source": []
  },
  {
   "cell_type": "code",
   "execution_count": null,
   "metadata": {},
   "outputs": [],
   "source": []
  },
  {
   "cell_type": "code",
   "execution_count": null,
   "metadata": {},
   "outputs": [],
   "source": []
  },
  {
   "cell_type": "code",
   "execution_count": null,
   "metadata": {},
   "outputs": [],
   "source": []
  },
  {
   "cell_type": "code",
   "execution_count": null,
   "metadata": {},
   "outputs": [],
   "source": []
  },
  {
   "cell_type": "code",
   "execution_count": null,
   "metadata": {},
   "outputs": [],
   "source": []
  },
  {
   "cell_type": "code",
   "execution_count": null,
   "metadata": {},
   "outputs": [],
   "source": []
  }
 ],
 "metadata": {
  "kernelspec": {
   "display_name": "Python 3",
   "language": "python",
   "name": "python3"
  },
  "language_info": {
   "codemirror_mode": {
    "name": "ipython",
    "version": 3
   },
   "file_extension": ".py",
   "mimetype": "text/x-python",
   "name": "python",
   "nbconvert_exporter": "python",
   "pygments_lexer": "ipython3",
   "version": "3.9.13"
  }
 },
 "nbformat": 4,
 "nbformat_minor": 2
}
