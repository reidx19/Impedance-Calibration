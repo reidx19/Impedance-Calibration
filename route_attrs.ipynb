{
 "cells": [
  {
   "cell_type": "markdown",
   "metadata": {},
   "source": [
    "# Retrieve Route Attributes from Dijkstra\n",
    "We have a list of edges and turns from Dijkstra, and we need to get the route attributes (how many turns, how much feet up, miles of bike facility, etc).\n",
    "\n",
    "There are two different ones that we are looking for link attributes + turn attributes.\n",
    "\n",
    "For link attributes we the linkid and direction of travel (because of elevation).\n",
    "For turn attributes we just need linkid to linkid."
   ]
  },
  {
   "cell_type": "code",
   "execution_count": null,
   "metadata": {},
   "outputs": [],
   "source": [
    "from pathlib import Path\n",
    "import time\n",
    "import geopandas as gpd\n",
    "import numpy as np\n",
    "import pickle\n",
    "import networkx as nx\n",
    "\n",
    "import modeling_turns\n",
    "#import stochastic_optimization"
   ]
  },
  {
   "cell_type": "code",
   "execution_count": null,
   "metadata": {},
   "outputs": [],
   "source": [
    "#fp = Path.home() / 'Documents/BikewaySimData/Projects/gdot'\n",
    "fp = Path.home() / 'Library/CloudStorage/OneDrive-GeorgiaInstituteofTechnology/BikewaySim/Data'\n",
    "\n",
    "with (fp / 'impedance_calibration.pkl').open('rb') as fh:\n",
    "    (df_edges,pseudo_df,pseudo_G) = pickle.load(fh)"
   ]
  },
  {
   "cell_type": "markdown",
   "metadata": {},
   "source": [
    "# Retrieve link/turn costs\n",
    "default below is link distance"
   ]
  },
  {
   "cell_type": "code",
   "execution_count": null,
   "metadata": {},
   "outputs": [],
   "source": [
    "link_costs = dict(zip(list(zip(df_edges['source'],df_edges['target'],df_edges['linkid'])),df_edges['length_ft']))\n",
    "tup = list(zip(pseudo_df['source_A'],pseudo_df['source_B'],pseudo_df['source_linkid']))\n",
    "pseudo_df['source_cost'] = list(map(link_costs.get,tup))\n",
    "tup = list(zip(pseudo_df['target_A'],pseudo_df['target_B'],pseudo_df['target_linkid']))\n",
    "\n",
    "pseudo_df['target_cost'] = list(map(link_costs.get,tup))\n",
    "pseudo_df['total_cost'] = pseudo_df['source_cost'] + pseudo_df['target_cost'] #+turn_cost\n",
    "\n",
    "costs = pseudo_df.groupby(['source','target'])['total_cost'].min()\n",
    "nx.set_edge_attributes(pseudo_G,values=costs,name='weight')"
   ]
  },
  {
   "cell_type": "code",
   "execution_count": null,
   "metadata": {},
   "outputs": [],
   "source": [
    "source = list(pseudo_G.nodes())[0]\n",
    "target = list(pseudo_G.nodes())[420]\n",
    "print(source,target)"
   ]
  },
  {
   "cell_type": "code",
   "execution_count": null,
   "metadata": {},
   "outputs": [],
   "source": [
    "import networkx as nx\n",
    "length, edge_list = nx.single_source_dijkstra(pseudo_G,source,target,weight=\"weight\")\n",
    "turn_list = [[edge_list[i][0],edge_list[i][1],edge_list[i+1][0],edge_list[i+1][1]] for i in range(len(edge_list)-1)]\n"
   ]
  },
  {
   "cell_type": "code",
   "execution_count": null,
   "metadata": {},
   "outputs": [],
   "source": [
    "turn_cols = ['turn_type','signalized_left_straight','unsignalized_left_straight_nonlocal']\n",
    "linkid_cols = ['source_linkid','source_reverse_link','target_linkid','target_reverse_link']\n",
    "chosen_turns = pseudo_df.set_index(['source_A','source_B','target_A','target_B'],drop=False).loc[turn_list,linkid_cols+turn_cols]\n",
    "\n",
    "tripid = 302\n",
    "\n",
    "#make a single row dataframe to attach to trips_df\n",
    "stats_dict = {}\n",
    "stats_dict[tripid] = {\n",
    "    'tripid':tripid,\n",
    "    'signalized_left_straight': chosen_turns['signalized_left_straight'].sum(),\n",
    "    'unsignalized_left_straight_nonlocal': chosen_turns['unsignalized_left_straight_nonlocal'].sum()\n",
    "}\n",
    "turn_dict = chosen_turns['turn_type'].value_counts().to_dict()\n",
    "stats_dict[tripid].update(turn_dict)"
   ]
  },
  {
   "cell_type": "markdown",
   "metadata": {},
   "source": [
    "# Case 1: Need to run shortest paths to create link sequence"
   ]
  },
  {
   "cell_type": "code",
   "execution_count": null,
   "metadata": {},
   "outputs": [],
   "source": [
    "source_links = chosen_turns[['source_linkid','source_reverse_link']]\n",
    "target_links = chosen_turns[['target_linkid','target_reverse_link']]\n",
    "source_links.columns = ['linkid','reverse_link']\n",
    "target_links.columns = ['linkid','reverse_link']\n",
    "linkids = pd.concat([source_links,target_links],ignore_index=True).drop_duplicates()\n",
    "chosen_links = df_edges.merge(linkids,on=['linkid','reverse_link'])"
   ]
  },
  {
   "cell_type": "markdown",
   "metadata": {},
   "source": [
    "# Case 2: Already have link sequence"
   ]
  },
  {
   "cell_type": "code",
   "execution_count": 36,
   "metadata": {},
   "outputs": [],
   "source": [
    "with (fp / '200_sample.pkl').open('rb') as fh:\n",
    "    matched_traces = pickle.load(fh)"
   ]
  },
  {
   "cell_type": "code",
   "execution_count": 37,
   "metadata": {},
   "outputs": [
    {
     "data": {
      "text/plain": [
       "dict_keys([30724, 1545, 25098, 24587, 6668, 3599, 8207, 1041, 16401, 28696, 4633, 14366, 5663, 13857, 33826, 6179, 34340, 15397, 24614, 29230, 10286, 3630, 17460, 30264, 14909, 26176, 8258, 25155, 14406, 15434, 4684, 8780, 9806, 24146, 26198, 7255, 16473, 7257, 13919, 24162, 25186, 18531, 8802, 9320, 30825, 13418, 25192, 2156, 30830, 11377, 31353, 4220, 7293, 13960, 29837, 5265, 32406, 29335, 10903, 25755, 1182, 28830, 161, 33442, 9890, 30884, 27815, 2217, 28330, 1707, 30382, 3247, 8880, 693, 1208, 10937, 10427, 12995, 196, 29891, 9417, 3283, 24791, 4312, 4831, 7392, 737, 15584, 28896, 28900, 33503, 11492, 14049, 29928, 13543, 10474, 27371, 2284, 8429, 751, 10993, 17137, 8436, 18168, 5880, 25850, 13051, 28923, 7933, 4353, 24322, 29955, 11521, 32526, 7951, 18192, 1299, 26899, 24857, 16666, 1818, 27935, 28962, 27939, 17187, 28970, 10236, 25902, 16687, 29488, 6449, 32049, 30000, 308, 7477, 31549, 31039, 4416, 30016, 25417, 26443, 10575, 9556, 16213, 16214, 8539, 11102, 7013, 17766, 12647, 25960, 7532, 5484, 26478, 34159, 368, 8560, 3954, 17778, 4985, 381, 11134, 29573, 28550, 30086, 17804, 28559, 2962, 24469, 29078, 31125, 16793, 15264, 27554, 5547, 15275, 10158, 33203, 3001, 16826, 7611, 26555, 11197, 25542, 16841, 15305, 7118, 3539, 33244, 4061, 16351, 28643, 25572, 17381, 6118, 13289, 28141, 30702, 27117, 5613, 8177, 17906, 27633, 26612, 12284])"
      ]
     },
     "execution_count": 37,
     "metadata": {},
     "output_type": "execute_result"
    }
   ],
   "source": [
    "matched_traces.keys()"
   ]
  },
  {
   "cell_type": "code",
   "execution_count": 38,
   "metadata": {},
   "outputs": [],
   "source": [
    "tripid = 24587\n",
    "edges = matched_traces[tripid]['edges']\n",
    "edges['reverse_link'] = edges['forward'] == False\n",
    "list_of_edges = list(zip(edges['linkid'],edges['reverse_link']))\n",
    "list_of_turns = [(list_of_edges[i][0],list_of_edges[i][1],list_of_edges[i+1][0],list_of_edges[i+1][1]) for i in range(0,len(list_of_edges)-1)]"
   ]
  },
  {
   "cell_type": "code",
   "execution_count": 40,
   "metadata": {},
   "outputs": [
    {
     "data": {
      "text/plain": [
       "[(10976.0, False, 10976.0, True),\n",
       " (10976.0, True, 10976.0, False),\n",
       " (10976.0, False, 10976.0, True),\n",
       " (10976.0, True, 10976.0, False),\n",
       " (10976.0, False, 10976.0, True),\n",
       " (10976.0, True, 10979.0, True),\n",
       " (10979.0, True, 10972.0, False),\n",
       " (10972.0, False, 10973.0, False),\n",
       " (10973.0, False, 10978.0, False),\n",
       " (10978.0, False, 10977.0, True),\n",
       " (10977.0, True, 8149.0, False),\n",
       " (8149.0, False, 8134.0, True),\n",
       " (8134.0, True, 8157.0, False),\n",
       " (8157.0, False, 8157.0, True),\n",
       " (8157.0, True, 8135.0, False),\n",
       " (8135.0, False, 8151.0, False),\n",
       " (8151.0, False, 8146.0, False),\n",
       " (8146.0, False, 8147.0, False),\n",
       " (8147.0, False, 8148.0, False),\n",
       " (8148.0, False, 8139.0, False),\n",
       " (8139.0, False, 8138.0, False),\n",
       " (8138.0, False, 17088.0, False),\n",
       " (17088.0, False, 17088.0, True),\n",
       " (17088.0, True, 8140.0, False),\n",
       " (8140.0, False, 8152.0, True),\n",
       " (8152.0, True, 17106.0, True),\n",
       " (17106.0, True, 17106.0, False),\n",
       " (17106.0, False, 17106.0, True),\n",
       " (17106.0, True, 17106.0, False),\n",
       " (17106.0, False, 17106.0, True),\n",
       " (17106.0, True, 17105.0, True),\n",
       " (17105.0, True, 17093.0, True),\n",
       " (17093.0, True, 17093.0, False),\n",
       " (17093.0, False, 17104.0, False),\n",
       " (17104.0, False, 17104.0, True),\n",
       " (17104.0, True, 17104.0, False),\n",
       " (17104.0, False, 17100.0, True),\n",
       " (17100.0, True, 17092.0, True),\n",
       " (17092.0, True, 8176.0, True),\n",
       " (8176.0, True, 8176.0, False),\n",
       " (8176.0, False, 8176.0, True),\n",
       " (8176.0, True, 8178.0, True),\n",
       " (8178.0, True, 8179.0, True),\n",
       " (8179.0, True, 8180.0, False),\n",
       " (8180.0, False, 55118.0, False),\n",
       " (55118.0, False, 55116.0, True),\n",
       " (55116.0, True, 55117.0, False),\n",
       " (55117.0, False, 55119.0, True),\n",
       " (55119.0, True, 18439.0, True),\n",
       " (18439.0, True, 18439.0, False),\n",
       " (18439.0, False, 18439.0, True),\n",
       " (18439.0, True, 18439.0, False),\n",
       " (18439.0, False, 18439.0, True),\n",
       " (18439.0, True, 18439.0, False),\n",
       " (18439.0, False, 18439.0, True),\n",
       " (18439.0, True, 18258.0, False),\n",
       " (18258.0, False, 8158.0, True),\n",
       " (8158.0, True, 8158.0, False),\n",
       " (8158.0, False, 8158.0, True),\n",
       " (8158.0, True, 8158.0, False),\n",
       " (8158.0, False, 8158.0, True),\n",
       " (8158.0, True, 8158.0, False),\n",
       " (8158.0, False, 8158.0, True),\n",
       " (8158.0, True, 8158.0, False),\n",
       " (8158.0, False, 8158.0, True),\n",
       " (8158.0, True, 8158.0, False),\n",
       " (8158.0, False, 8158.0, True),\n",
       " (8158.0, True, 8158.0, False),\n",
       " (8158.0, False, 8158.0, True),\n",
       " (8158.0, True, 18254.0, True),\n",
       " (18254.0, True, 10976.0, False),\n",
       " (10976.0, False, 10976.0, True),\n",
       " (10976.0, True, 10976.0, False),\n",
       " (10976.0, False, 10976.0, True),\n",
       " (10976.0, True, 10976.0, False),\n",
       " (10976.0, False, 10976.0, True),\n",
       " (10976.0, True, 10976.0, False),\n",
       " (10976.0, False, 10976.0, True),\n",
       " (10976.0, True, 10976.0, False),\n",
       " (10976.0, False, 10976.0, True)]"
      ]
     },
     "execution_count": 40,
     "metadata": {},
     "output_type": "execute_result"
    }
   ],
   "source": [
    "list_of_turns"
   ]
  },
  {
   "cell_type": "code",
   "execution_count": 42,
   "metadata": {},
   "outputs": [
    {
     "data": {
      "text/plain": [
       "source_A                                           783782570\n",
       "source_B                                            67358015\n",
       "target_A                                            67358015\n",
       "target_B                                            67358019\n",
       "source_azimuth                                         270.4\n",
       "target_azimuth                                         178.5\n",
       "azimuth_change                                         268.1\n",
       "turn_type                                               left\n",
       "source                                 (783782570, 67358015)\n",
       "target                                  (67358015, 67358019)\n",
       "signalized_left_straight                               False\n",
       "unsignalized_left_straight_nonlocal                    False\n",
       "source_cost                                        467.45937\n",
       "target_cost                                       355.571011\n",
       "Name: (5.0, False, 0.0, True), dtype: object"
      ]
     },
     "execution_count": 42,
     "metadata": {},
     "output_type": "execute_result"
    }
   ],
   "source": [
    "test = (5.0,False,0.0,True)\n",
    "pseudo_df.set_index(['source_linkid','source_reverse_link','target_linkid','target_reverse_link']).loc[test]\n"
   ]
  },
  {
   "cell_type": "code",
   "execution_count": 39,
   "metadata": {},
   "outputs": [
    {
     "ename": "KeyError",
     "evalue": "'[(10976.0, False, 10976.0, True), (10976.0, True, 10976.0, False), (8157.0, False, 8157.0, True), (17088.0, False, 17088.0, True), (17106.0, True, 17106.0, False), (17106.0, False, 17106.0, True), (17093.0, True, 17093.0, False), (17104.0, False, 17104.0, True), (17104.0, True, 17104.0, False), (8176.0, True, 8176.0, False), (8176.0, False, 8176.0, True), (18439.0, True, 18439.0, False), (18439.0, False, 18439.0, True), (8158.0, True, 8158.0, False), (8158.0, False, 8158.0, True)] not in index'",
     "output_type": "error",
     "traceback": [
      "\u001b[0;31m---------------------------------------------------------------------------\u001b[0m",
      "\u001b[0;31mKeyError\u001b[0m                                  Traceback (most recent call last)",
      "Cell \u001b[0;32mIn[39], line 2\u001b[0m\n\u001b[1;32m      1\u001b[0m chosen_links \u001b[38;5;241m=\u001b[39m df_edges\u001b[38;5;241m.\u001b[39mset_index([\u001b[38;5;124m'\u001b[39m\u001b[38;5;124mlinkid\u001b[39m\u001b[38;5;124m'\u001b[39m,\u001b[38;5;124m'\u001b[39m\u001b[38;5;124mreverse_link\u001b[39m\u001b[38;5;124m'\u001b[39m])\u001b[38;5;241m.\u001b[39mloc[list_of_edges]\n\u001b[0;32m----> 2\u001b[0m chosen_turns \u001b[38;5;241m=\u001b[39m \u001b[43mpseudo_df\u001b[49m\u001b[38;5;241;43m.\u001b[39;49m\u001b[43mset_index\u001b[49m\u001b[43m(\u001b[49m\u001b[43m[\u001b[49m\u001b[38;5;124;43m'\u001b[39;49m\u001b[38;5;124;43msource_linkid\u001b[39;49m\u001b[38;5;124;43m'\u001b[39;49m\u001b[43m,\u001b[49m\u001b[38;5;124;43m'\u001b[39;49m\u001b[38;5;124;43msource_reverse_link\u001b[39;49m\u001b[38;5;124;43m'\u001b[39;49m\u001b[43m,\u001b[49m\u001b[38;5;124;43m'\u001b[39;49m\u001b[38;5;124;43mtarget_linkid\u001b[39;49m\u001b[38;5;124;43m'\u001b[39;49m\u001b[43m,\u001b[49m\u001b[38;5;124;43m'\u001b[39;49m\u001b[38;5;124;43mtarget_reverse_link\u001b[39;49m\u001b[38;5;124;43m'\u001b[39;49m\u001b[43m]\u001b[49m\u001b[43m)\u001b[49m\u001b[38;5;241;43m.\u001b[39;49m\u001b[43mloc\u001b[49m\u001b[43m[\u001b[49m\u001b[43mlist_of_turns\u001b[49m\u001b[43m]\u001b[49m\n",
      "File \u001b[0;32m~/mambaforge/envs/geo-env/lib/python3.11/site-packages/pandas/core/indexing.py:1073\u001b[0m, in \u001b[0;36m_LocationIndexer.__getitem__\u001b[0;34m(self, key)\u001b[0m\n\u001b[1;32m   1070\u001b[0m axis \u001b[38;5;241m=\u001b[39m \u001b[38;5;28mself\u001b[39m\u001b[38;5;241m.\u001b[39maxis \u001b[38;5;129;01mor\u001b[39;00m \u001b[38;5;241m0\u001b[39m\n\u001b[1;32m   1072\u001b[0m maybe_callable \u001b[38;5;241m=\u001b[39m com\u001b[38;5;241m.\u001b[39mapply_if_callable(key, \u001b[38;5;28mself\u001b[39m\u001b[38;5;241m.\u001b[39mobj)\n\u001b[0;32m-> 1073\u001b[0m \u001b[38;5;28;01mreturn\u001b[39;00m \u001b[38;5;28;43mself\u001b[39;49m\u001b[38;5;241;43m.\u001b[39;49m\u001b[43m_getitem_axis\u001b[49m\u001b[43m(\u001b[49m\u001b[43mmaybe_callable\u001b[49m\u001b[43m,\u001b[49m\u001b[43m \u001b[49m\u001b[43maxis\u001b[49m\u001b[38;5;241;43m=\u001b[39;49m\u001b[43maxis\u001b[49m\u001b[43m)\u001b[49m\n",
      "File \u001b[0;32m~/mambaforge/envs/geo-env/lib/python3.11/site-packages/pandas/core/indexing.py:1301\u001b[0m, in \u001b[0;36m_LocIndexer._getitem_axis\u001b[0;34m(self, key, axis)\u001b[0m\n\u001b[1;32m   1298\u001b[0m     \u001b[38;5;28;01mif\u001b[39;00m \u001b[38;5;28mhasattr\u001b[39m(key, \u001b[38;5;124m\"\u001b[39m\u001b[38;5;124mndim\u001b[39m\u001b[38;5;124m\"\u001b[39m) \u001b[38;5;129;01mand\u001b[39;00m key\u001b[38;5;241m.\u001b[39mndim \u001b[38;5;241m>\u001b[39m \u001b[38;5;241m1\u001b[39m:\n\u001b[1;32m   1299\u001b[0m         \u001b[38;5;28;01mraise\u001b[39;00m \u001b[38;5;167;01mValueError\u001b[39;00m(\u001b[38;5;124m\"\u001b[39m\u001b[38;5;124mCannot index with multidimensional key\u001b[39m\u001b[38;5;124m\"\u001b[39m)\n\u001b[0;32m-> 1301\u001b[0m     \u001b[38;5;28;01mreturn\u001b[39;00m \u001b[38;5;28;43mself\u001b[39;49m\u001b[38;5;241;43m.\u001b[39;49m\u001b[43m_getitem_iterable\u001b[49m\u001b[43m(\u001b[49m\u001b[43mkey\u001b[49m\u001b[43m,\u001b[49m\u001b[43m \u001b[49m\u001b[43maxis\u001b[49m\u001b[38;5;241;43m=\u001b[39;49m\u001b[43maxis\u001b[49m\u001b[43m)\u001b[49m\n\u001b[1;32m   1303\u001b[0m \u001b[38;5;66;03m# nested tuple slicing\u001b[39;00m\n\u001b[1;32m   1304\u001b[0m \u001b[38;5;28;01mif\u001b[39;00m is_nested_tuple(key, labels):\n",
      "File \u001b[0;32m~/mambaforge/envs/geo-env/lib/python3.11/site-packages/pandas/core/indexing.py:1239\u001b[0m, in \u001b[0;36m_LocIndexer._getitem_iterable\u001b[0;34m(self, key, axis)\u001b[0m\n\u001b[1;32m   1236\u001b[0m \u001b[38;5;28mself\u001b[39m\u001b[38;5;241m.\u001b[39m_validate_key(key, axis)\n\u001b[1;32m   1238\u001b[0m \u001b[38;5;66;03m# A collection of keys\u001b[39;00m\n\u001b[0;32m-> 1239\u001b[0m keyarr, indexer \u001b[38;5;241m=\u001b[39m \u001b[38;5;28;43mself\u001b[39;49m\u001b[38;5;241;43m.\u001b[39;49m\u001b[43m_get_listlike_indexer\u001b[49m\u001b[43m(\u001b[49m\u001b[43mkey\u001b[49m\u001b[43m,\u001b[49m\u001b[43m \u001b[49m\u001b[43maxis\u001b[49m\u001b[43m)\u001b[49m\n\u001b[1;32m   1240\u001b[0m \u001b[38;5;28;01mreturn\u001b[39;00m \u001b[38;5;28mself\u001b[39m\u001b[38;5;241m.\u001b[39mobj\u001b[38;5;241m.\u001b[39m_reindex_with_indexers(\n\u001b[1;32m   1241\u001b[0m     {axis: [keyarr, indexer]}, copy\u001b[38;5;241m=\u001b[39m\u001b[38;5;28;01mTrue\u001b[39;00m, allow_dups\u001b[38;5;241m=\u001b[39m\u001b[38;5;28;01mTrue\u001b[39;00m\n\u001b[1;32m   1242\u001b[0m )\n",
      "File \u001b[0;32m~/mambaforge/envs/geo-env/lib/python3.11/site-packages/pandas/core/indexing.py:1432\u001b[0m, in \u001b[0;36m_LocIndexer._get_listlike_indexer\u001b[0;34m(self, key, axis)\u001b[0m\n\u001b[1;32m   1429\u001b[0m ax \u001b[38;5;241m=\u001b[39m \u001b[38;5;28mself\u001b[39m\u001b[38;5;241m.\u001b[39mobj\u001b[38;5;241m.\u001b[39m_get_axis(axis)\n\u001b[1;32m   1430\u001b[0m axis_name \u001b[38;5;241m=\u001b[39m \u001b[38;5;28mself\u001b[39m\u001b[38;5;241m.\u001b[39mobj\u001b[38;5;241m.\u001b[39m_get_axis_name(axis)\n\u001b[0;32m-> 1432\u001b[0m keyarr, indexer \u001b[38;5;241m=\u001b[39m \u001b[43max\u001b[49m\u001b[38;5;241;43m.\u001b[39;49m\u001b[43m_get_indexer_strict\u001b[49m\u001b[43m(\u001b[49m\u001b[43mkey\u001b[49m\u001b[43m,\u001b[49m\u001b[43m \u001b[49m\u001b[43maxis_name\u001b[49m\u001b[43m)\u001b[49m\n\u001b[1;32m   1434\u001b[0m \u001b[38;5;28;01mreturn\u001b[39;00m keyarr, indexer\n",
      "File \u001b[0;32m~/mambaforge/envs/geo-env/lib/python3.11/site-packages/pandas/core/indexes/multi.py:2626\u001b[0m, in \u001b[0;36mMultiIndex._get_indexer_strict\u001b[0;34m(self, key, axis_name)\u001b[0m\n\u001b[1;32m   2623\u001b[0m     \u001b[38;5;28mself\u001b[39m\u001b[38;5;241m.\u001b[39m_raise_if_missing(key, indexer, axis_name)\n\u001b[1;32m   2624\u001b[0m     \u001b[38;5;28;01mreturn\u001b[39;00m \u001b[38;5;28mself\u001b[39m[indexer], indexer\n\u001b[0;32m-> 2626\u001b[0m \u001b[38;5;28;01mreturn\u001b[39;00m \u001b[38;5;28;43msuper\u001b[39;49m\u001b[43m(\u001b[49m\u001b[43m)\u001b[49m\u001b[38;5;241;43m.\u001b[39;49m\u001b[43m_get_indexer_strict\u001b[49m\u001b[43m(\u001b[49m\u001b[43mkey\u001b[49m\u001b[43m,\u001b[49m\u001b[43m \u001b[49m\u001b[43maxis_name\u001b[49m\u001b[43m)\u001b[49m\n",
      "File \u001b[0;32m~/mambaforge/envs/geo-env/lib/python3.11/site-packages/pandas/core/indexes/base.py:6070\u001b[0m, in \u001b[0;36mIndex._get_indexer_strict\u001b[0;34m(self, key, axis_name)\u001b[0m\n\u001b[1;32m   6067\u001b[0m \u001b[38;5;28;01melse\u001b[39;00m:\n\u001b[1;32m   6068\u001b[0m     keyarr, indexer, new_indexer \u001b[38;5;241m=\u001b[39m \u001b[38;5;28mself\u001b[39m\u001b[38;5;241m.\u001b[39m_reindex_non_unique(keyarr)\n\u001b[0;32m-> 6070\u001b[0m \u001b[38;5;28;43mself\u001b[39;49m\u001b[38;5;241;43m.\u001b[39;49m\u001b[43m_raise_if_missing\u001b[49m\u001b[43m(\u001b[49m\u001b[43mkeyarr\u001b[49m\u001b[43m,\u001b[49m\u001b[43m \u001b[49m\u001b[43mindexer\u001b[49m\u001b[43m,\u001b[49m\u001b[43m \u001b[49m\u001b[43maxis_name\u001b[49m\u001b[43m)\u001b[49m\n\u001b[1;32m   6072\u001b[0m keyarr \u001b[38;5;241m=\u001b[39m \u001b[38;5;28mself\u001b[39m\u001b[38;5;241m.\u001b[39mtake(indexer)\n\u001b[1;32m   6073\u001b[0m \u001b[38;5;28;01mif\u001b[39;00m \u001b[38;5;28misinstance\u001b[39m(key, Index):\n\u001b[1;32m   6074\u001b[0m     \u001b[38;5;66;03m# GH 42790 - Preserve name from an Index\u001b[39;00m\n",
      "File \u001b[0;32m~/mambaforge/envs/geo-env/lib/python3.11/site-packages/pandas/core/indexes/multi.py:2646\u001b[0m, in \u001b[0;36mMultiIndex._raise_if_missing\u001b[0;34m(self, key, indexer, axis_name)\u001b[0m\n\u001b[1;32m   2644\u001b[0m         \u001b[38;5;28;01mraise\u001b[39;00m \u001b[38;5;167;01mKeyError\u001b[39;00m(\u001b[38;5;124mf\u001b[39m\u001b[38;5;124m\"\u001b[39m\u001b[38;5;132;01m{\u001b[39;00mkeyarr\u001b[38;5;132;01m}\u001b[39;00m\u001b[38;5;124m not in index\u001b[39m\u001b[38;5;124m\"\u001b[39m)\n\u001b[1;32m   2645\u001b[0m \u001b[38;5;28;01melse\u001b[39;00m:\n\u001b[0;32m-> 2646\u001b[0m     \u001b[38;5;28;01mreturn\u001b[39;00m \u001b[38;5;28;43msuper\u001b[39;49m\u001b[43m(\u001b[49m\u001b[43m)\u001b[49m\u001b[38;5;241;43m.\u001b[39;49m\u001b[43m_raise_if_missing\u001b[49m\u001b[43m(\u001b[49m\u001b[43mkey\u001b[49m\u001b[43m,\u001b[49m\u001b[43m \u001b[49m\u001b[43mindexer\u001b[49m\u001b[43m,\u001b[49m\u001b[43m \u001b[49m\u001b[43maxis_name\u001b[49m\u001b[43m)\u001b[49m\n",
      "File \u001b[0;32m~/mambaforge/envs/geo-env/lib/python3.11/site-packages/pandas/core/indexes/base.py:6133\u001b[0m, in \u001b[0;36mIndex._raise_if_missing\u001b[0;34m(self, key, indexer, axis_name)\u001b[0m\n\u001b[1;32m   6130\u001b[0m     \u001b[38;5;28;01mraise\u001b[39;00m \u001b[38;5;167;01mKeyError\u001b[39;00m(\u001b[38;5;124mf\u001b[39m\u001b[38;5;124m\"\u001b[39m\u001b[38;5;124mNone of [\u001b[39m\u001b[38;5;132;01m{\u001b[39;00mkey\u001b[38;5;132;01m}\u001b[39;00m\u001b[38;5;124m] are in the [\u001b[39m\u001b[38;5;132;01m{\u001b[39;00maxis_name\u001b[38;5;132;01m}\u001b[39;00m\u001b[38;5;124m]\u001b[39m\u001b[38;5;124m\"\u001b[39m)\n\u001b[1;32m   6132\u001b[0m not_found \u001b[38;5;241m=\u001b[39m \u001b[38;5;28mlist\u001b[39m(ensure_index(key)[missing_mask\u001b[38;5;241m.\u001b[39mnonzero()[\u001b[38;5;241m0\u001b[39m]]\u001b[38;5;241m.\u001b[39munique())\n\u001b[0;32m-> 6133\u001b[0m \u001b[38;5;28;01mraise\u001b[39;00m \u001b[38;5;167;01mKeyError\u001b[39;00m(\u001b[38;5;124mf\u001b[39m\u001b[38;5;124m\"\u001b[39m\u001b[38;5;132;01m{\u001b[39;00mnot_found\u001b[38;5;132;01m}\u001b[39;00m\u001b[38;5;124m not in index\u001b[39m\u001b[38;5;124m\"\u001b[39m)\n",
      "\u001b[0;31mKeyError\u001b[0m: '[(10976.0, False, 10976.0, True), (10976.0, True, 10976.0, False), (8157.0, False, 8157.0, True), (17088.0, False, 17088.0, True), (17106.0, True, 17106.0, False), (17106.0, False, 17106.0, True), (17093.0, True, 17093.0, False), (17104.0, False, 17104.0, True), (17104.0, True, 17104.0, False), (8176.0, True, 8176.0, False), (8176.0, False, 8176.0, True), (18439.0, True, 18439.0, False), (18439.0, False, 18439.0, True), (8158.0, True, 8158.0, False), (8158.0, False, 8158.0, True)] not in index'"
     ]
    }
   ],
   "source": [
    "chosen_links = df_edges.set_index(['linkid','reverse_link']).loc[list_of_edges]\n",
    "chosen_turns = pseudo_df.set_index(['source_linkid','source_reverse_link','target_linkid','target_reverse_link']).loc[list_of_turns]"
   ]
  },
  {
   "cell_type": "markdown",
   "metadata": {},
   "source": [
    "# Get Link Attributes"
   ]
  },
  {
   "cell_type": "code",
   "execution_count": null,
   "metadata": {},
   "outputs": [],
   "source": [
    "summary_attributes = {}\n",
    "\n",
    "#specify columns to summarize\n",
    "bool_cols = ['bl','mu','pbl']\n",
    "cols = ['link_type','highway','bridge','tunnel','speedlimit_range_mph','lanes_per_direction']\n",
    "\n",
    "for bool_col in bool_cols:\n",
    "    total_length = chosen_links[chosen_links[bool_col] == 1]['length_ft'].sum()\n",
    "    summary_attributes[bool_col] = np.round(total_length/chosen_links['length_ft'].sum(),2)\n",
    "\n",
    "for col in cols:\n",
    "    for unique_val in chosen_links[col].unique():\n",
    "        if (unique_val != None) | (unique_val == np.nan):\n",
    "            total_length = chosen_links[chosen_links[col] == unique_val]['length_ft'].sum()\n",
    "        else:\n",
    "            continue\n",
    "        if isinstance(unique_val,str) == False:\n",
    "            unique_val = str(unique_val)\n",
    "        summary_attributes[col+'.'+unique_val] = np.round(total_length/chosen_links['length_ft'].sum(),2)\n",
    "\n",
    "stats_dict[tripid].update(summary_attributes)\n"
   ]
  },
  {
   "cell_type": "code",
   "execution_count": null,
   "metadata": {},
   "outputs": [],
   "source": [
    "stats_dict"
   ]
  },
  {
   "cell_type": "markdown",
   "metadata": {},
   "source": [
    "# Turn Attributes"
   ]
  },
  {
   "cell_type": "code",
   "execution_count": null,
   "metadata": {},
   "outputs": [],
   "source": [
    "turn_cols = ['turn_type','signalized_left_straight','unsignalized_left_straight_nonlocal']\n",
    "linkid_cols = ['source_linkid','source_reverse_link','target_linkid','target_reverse_link']\n",
    "chosen_turns = pseudo_df.set_index(['source_A','source_B','target_A','target_B'],drop=False).loc[turn_list,linkid_cols+turn_cols]\n",
    "\n",
    "tripid = 302\n",
    "\n",
    "#make a single row dataframe to attach to trips_df\n",
    "stats_dict = {}\n",
    "stats_dict[tripid] = {\n",
    "    'tripid':tripid,\n",
    "    'signalized_left_straight': chosen_turns['signalized_left_straight'].sum(),\n",
    "    'unsignalized_left_straight_nonlocal': chosen_turns['unsignalized_left_straight_nonlocal'].sum()\n",
    "}\n",
    "turn_dict = chosen_turns['turn_type'].value_counts().to_dict()\n",
    "stats_dict[tripid].update(turn_dict)"
   ]
  },
  {
   "cell_type": "code",
   "execution_count": null,
   "metadata": {},
   "outputs": [],
   "source": [
    "#TODO recalculate bearing\n",
    "#create pseudo graph for modeling turns\n",
    "df_edges, pseudo_links, pseudo_G = modeling_turns.create_pseudo_dual_graph(links,'A','B','linkid','oneway')\n"
   ]
  },
  {
   "cell_type": "code",
   "execution_count": null,
   "metadata": {},
   "outputs": [],
   "source": [
    "source = list(pseudo_G.nodes())[0]\n",
    "target = list(pseudo_G.nodes())[420]"
   ]
  },
  {
   "cell_type": "code",
   "execution_count": null,
   "metadata": {},
   "outputs": [],
   "source": [
    "source = (68209677, 68209675)\n",
    "target = (69200243, 69465418)\n",
    "\n",
    "import networkx as nx\n",
    "length, path = nx.single_source_dijkstra(pseudo_G,source,target)"
   ]
  },
  {
   "cell_type": "code",
   "execution_count": null,
   "metadata": {},
   "outputs": [],
   "source": [
    "edge_list = [(linkids[i],linkids[i+1]) for i in range(len(linkids)-1)]\n",
    "edge_list"
   ]
  },
  {
   "cell_type": "code",
   "execution_count": null,
   "metadata": {},
   "outputs": [],
   "source": [
    "edge_list = [(*path[i],*path[i+1]) for i in range(len(path)-1)]\n",
    "edge_list"
   ]
  },
  {
   "cell_type": "code",
   "execution_count": null,
   "metadata": {},
   "outputs": [],
   "source": [
    "pseudo_links.columns"
   ]
  },
  {
   "cell_type": "code",
   "execution_count": null,
   "metadata": {},
   "outputs": [],
   "source": [
    "pseudo_links.set_index(['source_A','source_B','target_A','target_B']).loc[edge_list,'turn_type'].value_counts()"
   ]
  },
  {
   "cell_type": "code",
   "execution_count": null,
   "metadata": {},
   "outputs": [],
   "source": []
  },
  {
   "cell_type": "code",
   "execution_count": null,
   "metadata": {},
   "outputs": [],
   "source": []
  },
  {
   "cell_type": "code",
   "execution_count": null,
   "metadata": {},
   "outputs": [],
   "source": []
  },
  {
   "cell_type": "code",
   "execution_count": null,
   "metadata": {},
   "outputs": [],
   "source": []
  },
  {
   "cell_type": "code",
   "execution_count": null,
   "metadata": {},
   "outputs": [],
   "source": []
  },
  {
   "cell_type": "code",
   "execution_count": null,
   "metadata": {},
   "outputs": [],
   "source": []
  },
  {
   "cell_type": "code",
   "execution_count": null,
   "metadata": {},
   "outputs": [],
   "source": []
  },
  {
   "cell_type": "code",
   "execution_count": null,
   "metadata": {},
   "outputs": [],
   "source": []
  },
  {
   "cell_type": "code",
   "execution_count": null,
   "metadata": {},
   "outputs": [],
   "source": []
  },
  {
   "cell_type": "code",
   "execution_count": null,
   "metadata": {},
   "outputs": [],
   "source": []
  }
 ],
 "metadata": {
  "kernelspec": {
   "display_name": "Python 3",
   "language": "python",
   "name": "python3"
  },
  "language_info": {
   "codemirror_mode": {
    "name": "ipython",
    "version": 3
   },
   "file_extension": ".py",
   "mimetype": "text/x-python",
   "name": "python",
   "nbconvert_exporter": "python",
   "pygments_lexer": "ipython3",
   "version": "3.11.0"
  }
 },
 "nbformat": 4,
 "nbformat_minor": 2
}
